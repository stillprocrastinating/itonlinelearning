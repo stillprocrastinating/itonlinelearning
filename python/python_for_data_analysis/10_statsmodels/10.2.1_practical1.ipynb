{
 "cells": [
  {
   "cell_type": "markdown",
   "id": "9ae99a16",
   "metadata": {},
   "source": [
    "In this demonstration, we will showcase how to perform a simple linear regression analysis using `statsmodels`.\n",
    "\n",
    "We'll use a sample dataset containing information about the speed of cars and the distance it takes them to stop."
   ]
  },
  {
   "cell_type": "code",
   "execution_count": null,
   "id": "812f67f5",
   "metadata": {},
   "outputs": [],
   "source": [
    "# Import libraries\n",
    "import pandas as pd\n",
    "import numpy as np\n",
    "import statsmodels.api as sm\n",
    "import matplotlib.pyplot as plt"
   ]
  },
  {
   "cell_type": "code",
   "execution_count": 2,
   "id": "a360ac9c",
   "metadata": {},
   "outputs": [],
   "source": [
    "# Load the data\n",
    "data = sm.datasets.get_rdataset(\"cars\", \"datasets\").data"
   ]
  },
  {
   "cell_type": "code",
   "execution_count": 3,
   "id": "4187d7f1",
   "metadata": {},
   "outputs": [
    {
     "name": "stdout",
     "output_type": "stream",
     "text": [
      "Sample Dataset - Head:\n",
      "   speed  dist\n",
      "0      4     2\n",
      "1      4    10\n",
      "2      7     4\n",
      "3      7    22\n",
      "4      8    16\n"
     ]
    }
   ],
   "source": [
    "# Print the data head\n",
    "print(\"Sample Dataset - Head:\")\n",
    "print(data.head())"
   ]
  },
  {
   "cell_type": "code",
   "execution_count": 4,
   "id": "ec6e312e",
   "metadata": {},
   "outputs": [
    {
     "name": "stdout",
     "output_type": "stream",
     "text": [
      "\n",
      "Data.describe():\n",
      "           speed        dist\n",
      "count  50.000000   50.000000\n",
      "mean   15.400000   42.980000\n",
      "std     5.287644   25.769377\n",
      "min     4.000000    2.000000\n",
      "25%    12.000000   26.000000\n",
      "50%    15.000000   36.000000\n",
      "75%    19.000000   56.000000\n",
      "max    25.000000  120.000000\n"
     ]
    }
   ],
   "source": [
    "# Describe the dataset\n",
    "print(\"\\nData.describe():\")\n",
    "print(data.describe())"
   ]
  },
  {
   "cell_type": "code",
   "execution_count": 5,
   "id": "ed4ccc7c",
   "metadata": {},
   "outputs": [
    {
     "data": {
      "image/png": "[encoded data removed]",
      "text/plain": [
       "<Figure size 640x480 with 1 Axes>"
      ]
     },
     "metadata": {},
     "output_type": "display_data"
    }
   ],
   "source": [
    "# Scatter plot\n",
    "plt.scatter(data['speed'], data['dist'])\n",
    "plt.title('Speed vs stopping distance')\n",
    "plt.xlabel('Speed (mph)')\n",
    "plt.ylabel('Stopping distance (ft)')\n",
    "plt.show()"
   ]
  },
  {
   "cell_type": "code",
   "execution_count": 8,
   "id": "b72d94b5",
   "metadata": {},
   "outputs": [],
   "source": [
    "# Linear regression\n",
    "X = sm.add_constant(data['speed'])     # Add constant term to predictor\n",
    "y = data['dist']     # Response variable"
   ]
  },
  {
   "cell_type": "code",
   "execution_count": 9,
   "id": "8a459841",
   "metadata": {},
   "outputs": [
    {
     "name": "stdout",
     "output_type": "stream",
     "text": [
      "\n",
      "Linear regression results:\n",
      "                            OLS Regression Results                            \n",
      "==============================================================================\n",
      "Dep. Variable:                   dist   R-squared:                       0.651\n",
      "Model:                            OLS   Adj. R-squared:                  0.644\n",
      "Method:                 Least Squares   F-statistic:                     89.57\n",
      "Date:                Mon, 19 May 2025   Prob (F-statistic):           1.49e-12\n",
      "Time:                        20:46:05   Log-Likelihood:                -206.58\n",
      "No. Observations:                  50   AIC:                             417.2\n",
      "Df Residuals:                      48   BIC:                             421.0\n",
      "Df Model:                           1                                         \n",
      "Covariance Type:            nonrobust                                         \n",
      "==============================================================================\n",
      "                 coef    std err          t      P>|t|      [0.025      0.975]\n",
      "------------------------------------------------------------------------------\n",
      "const        -17.5791      6.758     -2.601      0.012     -31.168      -3.990\n",
      "speed          3.9324      0.416      9.464      0.000       3.097       4.768\n",
      "==============================================================================\n",
      "Omnibus:                        8.975   Durbin-Watson:                   1.676\n",
      "Prob(Omnibus):                  0.011   Jarque-Bera (JB):                8.189\n",
      "Skew:                           0.885   Prob(JB):                       0.0167\n",
      "Kurtosis:                       3.893   Cond. No.                         50.7\n",
      "==============================================================================\n",
      "\n",
      "Notes:\n",
      "[1] Standard Errors assume that the covariance matrix of the errors is correctly specified.\n"
     ]
    }
   ],
   "source": [
    "# Fit linear regression model\n",
    "model = sm.OLS(y, X).fit()\n",
    "print(\"\\nLinear regression results:\")\n",
    "print(model.summary())"
   ]
  }
 ],
 "metadata": {
  "kernelspec": {
   "display_name": "Python 3",
   "language": "python",
   "name": "python3"
  },
  "language_info": {
   "codemirror_mode": {
    "name": "ipython",
    "version": 3
   },
   "file_extension": ".py",
   "mimetype": "text/x-python",
   "name": "python",
   "nbconvert_exporter": "python",
   "pygments_lexer": "ipython3",
   "version": "3.13.3"
  }
 },
 "nbformat": 4,
 "nbformat_minor": 5
}
