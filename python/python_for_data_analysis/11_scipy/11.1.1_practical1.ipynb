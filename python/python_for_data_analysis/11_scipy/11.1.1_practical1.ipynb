{
 "cells": [
  {
   "cell_type": "code",
   "execution_count": 1,
   "id": "b473aadb",
   "metadata": {},
   "outputs": [],
   "source": [
    "from scipy import integrate"
   ]
  },
  {
   "cell_type": "code",
   "execution_count": 2,
   "id": "4df383e7",
   "metadata": {},
   "outputs": [],
   "source": [
    "# Define the function to integrate\n",
    "def f(x):\n",
    "\treturn x**2"
   ]
  },
  {
   "cell_type": "code",
   "execution_count": 3,
   "id": "d4574402",
   "metadata": {},
   "outputs": [
    {
     "name": "stdout",
     "output_type": "stream",
     "text": [
      "Integral: 0.33333333333333337\n"
     ]
    }
   ],
   "source": [
    "# Integrate the function from 0 to 1\n",
    "result, error = integrate.quad(f, 0, 1)\n",
    "print(\"Integral:\", result)"
   ]
  }
 ],
 "metadata": {
  "kernelspec": {
   "display_name": "Python 3",
   "language": "python",
   "name": "python3"
  },
  "language_info": {
   "codemirror_mode": {
    "name": "ipython",
    "version": 3
   },
   "file_extension": ".py",
   "mimetype": "text/x-python",
   "name": "python",
   "nbconvert_exporter": "python",
   "pygments_lexer": "ipython3",
   "version": "3.13.3"
  }
 },
 "nbformat": 4,
 "nbformat_minor": 5
}
