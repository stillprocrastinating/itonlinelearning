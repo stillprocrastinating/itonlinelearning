{
 "cells": [
  {
   "cell_type": "code",
   "execution_count": 2,
   "id": "b473aadb",
   "metadata": {},
   "outputs": [],
   "source": [
    "import numpy as np\n",
    "from scipy import linalg"
   ]
  },
  {
   "cell_type": "code",
   "execution_count": 3,
   "id": "4df383e7",
   "metadata": {},
   "outputs": [],
   "source": [
    "# Define the coefficients of the linear system\n",
    "a = np.array([[2, 1], [1, 1]])\n",
    "b = np.array([3, 2])"
   ]
  },
  {
   "cell_type": "code",
   "execution_count": 4,
   "id": "d4574402",
   "metadata": {},
   "outputs": [
    {
     "name": "stdout",
     "output_type": "stream",
     "text": [
      "Solution: [1. 1.]\n"
     ]
    }
   ],
   "source": [
    "# Solve the linear system\n",
    "x = linalg.solve(a, b)\n",
    "print(\"Solution:\", x)"
   ]
  }
 ],
 "metadata": {
  "kernelspec": {
   "display_name": "Python 3",
   "language": "python",
   "name": "python3"
  },
  "language_info": {
   "codemirror_mode": {
    "name": "ipython",
    "version": 3
   },
   "file_extension": ".py",
   "mimetype": "text/x-python",
   "name": "python",
   "nbconvert_exporter": "python",
   "pygments_lexer": "ipython3",
   "version": "3.13.3"
  }
 },
 "nbformat": 4,
 "nbformat_minor": 5
}
