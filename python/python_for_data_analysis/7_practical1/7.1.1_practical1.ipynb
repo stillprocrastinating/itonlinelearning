{
 "cells": [
  {
   "cell_type": "markdown",
   "id": "9c5c39a3-1180-4353-981d-a32f026084f3",
   "metadata": {
    "jp-MarkdownHeadingCollapsed": true
   },
   "source": [
    "# Create sample data"
   ]
  },
  {
   "cell_type": "code",
   "execution_count": 1,
   "id": "5cdf3553-5b75-4fa1-9afc-acdfbc4e3ba5",
   "metadata": {},
   "outputs": [],
   "source": [
    "#pip install numpy\n",
    "import numpy as np"
   ]
  },
  {
   "cell_type": "code",
   "execution_count": 2,
   "id": "71b9ff46-e95d-4392-9341-d0309efaaf6b",
   "metadata": {},
   "outputs": [],
   "source": [
    "# Create random number generator\n",
    "np.random.seed(0)\n",
    "num_samples = 1000"
   ]
  },
  {
   "cell_type": "code",
   "execution_count": 3,
   "id": "73122c99-d647-4a7d-b262-89b8b7526b72",
   "metadata": {},
   "outputs": [],
   "source": [
    "# Generate random scores between 0 and 100 for each subject\n",
    "scores_maths = np.random.randint(0, 101, num_samples)\n",
    "scores_science = np.random.randint(0, 101, num_samples)\n",
    "scores_english = np.random.randint(0, 101, num_samples)"
   ]
  },
  {
   "cell_type": "code",
   "execution_count": 4,
   "id": "8974e8a4-7cbe-4ff8-9d65-e777f9282e50",
   "metadata": {},
   "outputs": [],
   "source": [
    "#pip install pandas\n",
    "import pandas as pd"
   ]
  },
  {
   "cell_type": "code",
   "execution_count": 5,
   "id": "001c0d39-45a0-44ad-af56-e30d462c2889",
   "metadata": {},
   "outputs": [],
   "source": [
    "# Create a dataframe\n",
    "df = pd.DataFrame({\n",
    "\t'Maths': scores_maths,\n",
    "\t'Science': scores_science,\n",
    "\t'English': scores_english\n",
    "})"
   ]
  },
  {
   "cell_type": "code",
   "execution_count": 6,
   "id": "0fc9127b-04e0-4b30-b9ed-1db9b88ae82c",
   "metadata": {},
   "outputs": [],
   "source": [
    "# Save the dataframe to a CSV file\n",
    "df.to_csv('0_student_performance.csv', index=False)"
   ]
  },
  {
   "cell_type": "markdown",
   "id": "af983c2a-5cf2-462f-9ea9-28acabedeb4e",
   "metadata": {
    "jp-MarkdownHeadingCollapsed": true
   },
   "source": [
    "# Data exploration"
   ]
  },
  {
   "cell_type": "code",
   "execution_count": 7,
   "id": "7f42a81d-ae6b-40bf-841e-b52e2573bbdd",
   "metadata": {},
   "outputs": [
    {
     "name": "stdout",
     "output_type": "stream",
     "text": [
      "   Maths  Science  English\n",
      "0     44       69       43\n",
      "1     47       19       90\n",
      "2     64       22       15\n",
      "3     67       11       68\n",
      "4     67       11       74\n"
     ]
    }
   ],
   "source": [
    "# View the first few rows\n",
    "print(df.head())"
   ]
  },
  {
   "cell_type": "code",
   "execution_count": 8,
   "id": "618fe29d-6061-45f0-b5a6-15b1135a6c97",
   "metadata": {},
   "outputs": [
    {
     "name": "stdout",
     "output_type": "stream",
     "text": [
      "<class 'pandas.core.frame.DataFrame'>\n",
      "RangeIndex: 1000 entries, 0 to 999\n",
      "Data columns (total 3 columns):\n",
      " #   Column   Non-Null Count  Dtype\n",
      "---  ------   --------------  -----\n",
      " 0   Maths    1000 non-null   int32\n",
      " 1   Science  1000 non-null   int32\n",
      " 2   English  1000 non-null   int32\n",
      "dtypes: int32(3)\n",
      "memory usage: 11.8 KB\n",
      "None\n"
     ]
    }
   ],
   "source": [
    "# View information about the dataset\n",
    "print(df.info())"
   ]
  },
  {
   "cell_type": "code",
   "execution_count": 9,
   "id": "5bd846a7-4873-4147-ad5a-2b9dce670a38",
   "metadata": {},
   "outputs": [
    {
     "name": "stdout",
     "output_type": "stream",
     "text": [
      "             Maths      Science      English\n",
      "count  1000.000000  1000.000000  1000.000000\n",
      "mean     50.130000    50.293000    48.776000\n",
      "std      29.476057    29.666501    28.878293\n",
      "min       0.000000     0.000000     0.000000\n",
      "25%      25.000000    24.000000    24.000000\n",
      "50%      50.000000    50.000000    47.000000\n",
      "75%      76.000000    77.000000    74.000000\n",
      "max     100.000000   100.000000   100.000000\n"
     ]
    }
   ],
   "source": [
    "# View summary statistics\n",
    "print(df.describe())"
   ]
  },
  {
   "cell_type": "markdown",
   "id": "624b6ad2-0d6c-41a1-b9c1-79d8aeff4306",
   "metadata": {},
   "source": [
    "# Data cleaning\n",
    "Due to the nature of the data (being generated), there are no unclean variables to consider for cleaning:\n",
    "- dropna() or fillna()\n",
    "- drop_duplicates()\n",
    "- astype() or to_datetime() etc."
   ]
  },
  {
   "cell_type": "markdown",
   "id": "6d5d3545-5708-4679-ad32-8e3d3ce27362",
   "metadata": {},
   "source": [
    "# Data analysis"
   ]
  },
  {
   "cell_type": "code",
   "execution_count": 15,
   "id": "0d0dbdcc",
   "metadata": {},
   "outputs": [
    {
     "name": "stdout",
     "output_type": "stream",
     "text": [
      "Mean of maths scores: 50.13\n",
      "Standard deviation of maths scores: 29.476057028339763\n"
     ]
    }
   ],
   "source": [
    "mean_maths = df['Maths'].mean()\n",
    "print('Mean of maths scores:', mean_maths)\n",
    "\n",
    "std_maths = df['Maths'].std()\n",
    "print('Standard deviation of maths scores:', std_maths)"
   ]
  },
  {
   "cell_type": "code",
   "execution_count": 16,
   "id": "e5ac50c5",
   "metadata": {},
   "outputs": [
    {
     "name": "stdout",
     "output_type": "stream",
     "text": [
      "Mean of science scores: 50.293\n",
      "Standard deviation of science scores: 29.66650050565877\n"
     ]
    }
   ],
   "source": [
    "mean_science = df['Science'].mean()\n",
    "print('Mean of science scores:', mean_science)\n",
    "\n",
    "std_science = df['Science'].std()\n",
    "print('Standard deviation of science scores:', std_science)"
   ]
  },
  {
   "cell_type": "code",
   "execution_count": 17,
   "id": "eac2d5f9",
   "metadata": {},
   "outputs": [
    {
     "name": "stdout",
     "output_type": "stream",
     "text": [
      "Mean of english scores: 48.776\n",
      "Standard deviation of english scores: 28.878292535740055\n"
     ]
    }
   ],
   "source": [
    "mean_english = df['English'].mean()\n",
    "print('Mean of english scores:', mean_english)\n",
    "\n",
    "std_english = df['English'].std()\n",
    "print('Standard deviation of english scores:', std_english)"
   ]
  },
  {
   "cell_type": "code",
   "execution_count": 51,
   "id": "651c3a30",
   "metadata": {},
   "outputs": [
    {
     "name": "stdout",
     "output_type": "stream",
     "text": [
      "Correlation matrix between subjects:\n",
      "[[1.         0.0136976  0.03236734]\n",
      " [0.0136976  1.         0.01174914]\n",
      " [0.03236734 0.01174914 1.        ]]\n"
     ]
    }
   ],
   "source": [
    "# Correlation between subjects\n",
    "correlation_matrix = np.corrcoef(df, rowvar=False)\n",
    "print(\"Correlation matrix between subjects:\")\n",
    "print(correlation_matrix)"
   ]
  },
  {
   "cell_type": "markdown",
   "id": "b4c4781c",
   "metadata": {},
   "source": [
    "# Visualisations"
   ]
  },
  {
   "cell_type": "code",
   "execution_count": 18,
   "id": "04f700c7",
   "metadata": {},
   "outputs": [],
   "source": [
    "#pip install matplotlib\n",
    "import matplotlib.pyplot as plt"
   ]
  },
  {
   "cell_type": "code",
   "execution_count": null,
   "id": "448838dd",
   "metadata": {},
   "outputs": [],
   "source": [
    "# Slice the df to only include maths scores\n",
    "df_maths = df['Maths']"
   ]
  },
  {
   "cell_type": "code",
   "execution_count": 54,
   "id": "febcb0e2",
   "metadata": {},
   "outputs": [
    {
     "data": {
      "image/png": "[encoded data removed]",
      "text/plain": [
       "<Figure size 640x480 with 1 Axes>"
      ]
     },
     "metadata": {},
     "output_type": "display_data"
    }
   ],
   "source": [
    "# Plot a histogram of maths scores\n",
    "plt.hist(df_maths, bins=20)\n",
    "plt.xlabel('Maths score')\n",
    "plt.ylabel('Frequency of students with score')\n",
    "plt.show()"
   ]
  },
  {
   "cell_type": "code",
   "execution_count": 44,
   "id": "7ee43327",
   "metadata": {},
   "outputs": [],
   "source": [
    "# Slice the df to only include science scores\n",
    "df_science = df['Science']"
   ]
  },
  {
   "cell_type": "code",
   "execution_count": 58,
   "id": "d46b87ad",
   "metadata": {},
   "outputs": [
    {
     "data": {
      "image/png": "[encoded data removed]",
      "text/plain": [
       "<Figure size 640x480 with 1 Axes>"
      ]
     },
     "metadata": {},
     "output_type": "display_data"
    }
   ],
   "source": [
    "# Plot a histogram of science scores\n",
    "plt.hist(df_science, bins=20, color='orangered')\n",
    "plt.xlabel('Science score')\n",
    "plt.ylabel('Frequency of students with score')\n",
    "plt.show()"
   ]
  },
  {
   "cell_type": "code",
   "execution_count": 49,
   "id": "6a140475",
   "metadata": {},
   "outputs": [],
   "source": [
    "# Slice the df to only include english scores\n",
    "df_english = df['English']"
   ]
  },
  {
   "cell_type": "code",
   "execution_count": 59,
   "id": "acbc87c9",
   "metadata": {},
   "outputs": [
    {
     "data": {
      "image/png": "[encoded data removed]",
      "text/plain": [
       "<Figure size 640x480 with 1 Axes>"
      ]
     },
     "metadata": {},
     "output_type": "display_data"
    }
   ],
   "source": [
    "# Plot a histogram of english scores\n",
    "plt.hist(df_english, bins=20, color='green')\n",
    "plt.xlabel('English score')\n",
    "plt.ylabel('Frequency of students with score')\n",
    "plt.show()"
   ]
  },
  {
   "cell_type": "code",
   "execution_count": 52,
   "id": "019cec15",
   "metadata": {},
   "outputs": [],
   "source": [
    "#pip install seaborn\n",
    "import seaborn as sns"
   ]
  },
  {
   "cell_type": "code",
   "execution_count": 53,
   "id": "9d17f336",
   "metadata": {},
   "outputs": [
    {
     "data": {
      "image/png": "[encoded data removed]",
      "text/plain": [
       "<Figure size 640x480 with 1 Axes>"
      ]
     },
     "metadata": {},
     "output_type": "display_data"
    }
   ],
   "source": [
    "# Plot a box-and-whisker to compare distribution of scores between subjects\n",
    "sns.boxplot(df)\n",
    "plt.ylabel('Scores')\n",
    "plt.show()"
   ]
  },
  {
   "cell_type": "markdown",
   "id": "368a81bc",
   "metadata": {},
   "source": [
    "# Results\n",
    "Due to the generated nature of the data, there are no trends to highlight apart from the broadly-speaking average scores of 50/100 (Mean of maths scores: 50.13 / Mean of science scores: 50.293 / Mean of english scores: 48.776). This can be seen visually in Figures 1 (maths), 2 (science), and 3 (english) as the frequency of students' scores (in 20 5-score bins) as approximately 50 students per score bin, totalling 1,000 students; and in Figure 4 (box-and-whisker) where the median lines also lie very close to a score of 50, the percentile lines lie close to scores of 25 and 75 respectively, and the maximum and minimum scores are 0 and 100 for each subject."
   ]
  },
  {
   "cell_type": "markdown",
   "id": "1308b34e",
   "metadata": {},
   "source": [
    "# In conclusion...\n",
    "... This data is obviously fake and re-running these statistics on real data could prove insightful:\n",
    "- Certain subjects could show as being more difficult/less understood with lower average scores. These subjects, therefore, could be targeted with additional study sessions.\n",
    "- Certain students could show as having an affinity/interest in one or more subjects with higher average scores. These students, therefore, could be targeted with recommendations during job fair sessions.\n",
    "\n",
    "Additional data types could also prove beneficial.\n",
    "- For example, grant/funding availability could show that with more interesting/interactive lessons, students result in higher scores in those subjects.\n",
    "- Alternatively, the number of hours taught could show interesting correlations with resulting subject scores.\n",
    "\n",
    "This data was fake, however, if it were real, a take-away message would be to remember that each data point represents a person. All people need support when studying, which can look different between individuals."
   ]
  }
 ],
 "metadata": {
  "kernelspec": {
   "display_name": "Python 3",
   "language": "python",
   "name": "python3"
  },
  "language_info": {
   "codemirror_mode": {
    "name": "ipython",
    "version": 3
   },
   "file_extension": ".py",
   "mimetype": "text/x-python",
   "name": "python",
   "nbconvert_exporter": "python",
   "pygments_lexer": "ipython3",
   "version": "3.13.3"
  }
 },
 "nbformat": 4,
 "nbformat_minor": 5
}
